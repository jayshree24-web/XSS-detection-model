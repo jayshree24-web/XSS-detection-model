{
 "cells": [
  {
   "cell_type": "code",
   "execution_count": 1,
   "id": "0faa2f17",
   "metadata": {
    "_cell_guid": "b1076dfc-b9ad-4769-8c92-a6c4dae69d19",
    "_uuid": "8f2839f25d086af736a60e9eeb907d3b93b6e0e5",
    "execution": {
     "iopub.execute_input": "2022-09-07T19:09:01.171492Z",
     "iopub.status.busy": "2022-09-07T19:09:01.170593Z",
     "iopub.status.idle": "2022-09-07T19:09:09.610334Z",
     "shell.execute_reply": "2022-09-07T19:09:09.609414Z"
    },
    "papermill": {
     "duration": 8.4551,
     "end_time": "2022-09-07T19:09:09.613050",
     "exception": false,
     "start_time": "2022-09-07T19:09:01.157950",
     "status": "completed"
    },
    "tags": []
   },
   "outputs": [],
   "source": [
    "import pandas as pd\n",
    "from sklearn.feature_extraction.text import CountVectorizer\n",
    "from sklearn.model_selection import train_test_split\n",
    "from nltk.corpus import stopwords\n",
    "from sklearn.metrics import accuracy_score, f1_score\n",
    "from sklearn.linear_model import LogisticRegression\n",
    "from sklearn.ensemble import RandomForestClassifier\n",
    "from sklearn.svm import SVC\n",
    "from sklearn.naive_bayes import GaussianNB\n",
    "import tensorflow as tf\n",
    "import numpy as np\n",
    "from sklearn.metrics import confusion_matrix\n",
    "from tensorflow.keras import models, layers\n",
    "import warnings\n",
    "\n",
    "warnings.filterwarnings('ignore')"
   ]
  },
  {
   "cell_type": "code",
   "execution_count": 2,
   "id": "c1978055",
   "metadata": {
    "execution": {
     "iopub.execute_input": "2022-09-07T19:09:09.633642Z",
     "iopub.status.busy": "2022-09-07T19:09:09.632961Z",
     "iopub.status.idle": "2022-09-07T19:09:09.844712Z",
     "shell.execute_reply": "2022-09-07T19:09:09.843713Z"
    },
    "papermill": {
     "duration": 0.224421,
     "end_time": "2022-09-07T19:09:09.847081",
     "exception": false,
     "start_time": "2022-09-07T19:09:09.622660",
     "status": "completed"
    },
    "tags": []
   },
   "outputs": [],
   "source": [
    "import matplotlib.pyplot as plt\n",
    "import seaborn as sns\n",
    "from wordcloud import WordCloud"
   ]
  },
  {
   "cell_type": "code",
   "execution_count": 3,
   "id": "fb820b25",
   "metadata": {
    "execution": {
     "iopub.execute_input": "2022-09-07T19:09:09.867816Z",
     "iopub.status.busy": "2022-09-07T19:09:09.867168Z",
     "iopub.status.idle": "2022-09-07T19:09:09.954003Z",
     "shell.execute_reply": "2022-09-07T19:09:09.953073Z"
    },
    "papermill": {
     "duration": 0.099919,
     "end_time": "2022-09-07T19:09:09.956405",
     "exception": false,
     "start_time": "2022-09-07T19:09:09.856486",
     "status": "completed"
    },
    "tags": []
   },
   "outputs": [],
   "source": [
    "df = pd.read_csv('/kaggle/input/cross-site-scripting-xss-dataset-for-deep-learning/XSS_dataset.csv', encoding='utf-8-sig')\n",
    "X = df['Sentence']\n",
    "y = df['Label']"
   ]
  },
  {
   "cell_type": "code",
   "execution_count": 4,
   "id": "6383e7f0",
   "metadata": {
    "execution": {
     "iopub.execute_input": "2022-09-07T19:09:09.976735Z",
     "iopub.status.busy": "2022-09-07T19:09:09.975863Z",
     "iopub.status.idle": "2022-09-07T19:09:09.990915Z",
     "shell.execute_reply": "2022-09-07T19:09:09.990239Z"
    },
    "papermill": {
     "duration": 0.028072,
     "end_time": "2022-09-07T19:09:09.993659",
     "exception": false,
     "start_time": "2022-09-07T19:09:09.965587",
     "status": "completed"
    },
    "tags": []
   },
   "outputs": [
    {
     "data": {
      "text/html": [
       "<div>\n",
       "<style scoped>\n",
       "    .dataframe tbody tr th:only-of-type {\n",
       "        vertical-align: middle;\n",
       "    }\n",
       "\n",
       "    .dataframe tbody tr th {\n",
       "        vertical-align: top;\n",
       "    }\n",
       "\n",
       "    .dataframe thead th {\n",
       "        text-align: right;\n",
       "    }\n",
       "</style>\n",
       "<table border=\"1\" class=\"dataframe\">\n",
       "  <thead>\n",
       "    <tr style=\"text-align: right;\">\n",
       "      <th></th>\n",
       "      <th>Unnamed: 0</th>\n",
       "      <th>Sentence</th>\n",
       "      <th>Label</th>\n",
       "    </tr>\n",
       "  </thead>\n",
       "  <tbody>\n",
       "    <tr>\n",
       "      <th>0</th>\n",
       "      <td>0</td>\n",
       "      <td>&lt;li&gt;&lt;a href=\"/wiki/File:Socrates.png\" class=\"i...</td>\n",
       "      <td>0</td>\n",
       "    </tr>\n",
       "    <tr>\n",
       "      <th>1</th>\n",
       "      <td>1</td>\n",
       "      <td>&lt;tt onmouseover=\"alert(1)\"&gt;test&lt;/tt&gt;</td>\n",
       "      <td>1</td>\n",
       "    </tr>\n",
       "    <tr>\n",
       "      <th>2</th>\n",
       "      <td>2</td>\n",
       "      <td>\\t &lt;/span&gt; &lt;span class=\"reference-text\"&gt;Steeri...</td>\n",
       "      <td>0</td>\n",
       "    </tr>\n",
       "    <tr>\n",
       "      <th>3</th>\n",
       "      <td>3</td>\n",
       "      <td>\\t &lt;/span&gt; &lt;span class=\"reference-text\"&gt;&lt;cite ...</td>\n",
       "      <td>0</td>\n",
       "    </tr>\n",
       "    <tr>\n",
       "      <th>4</th>\n",
       "      <td>4</td>\n",
       "      <td>\\t &lt;/span&gt;. &lt;a href=\"/wiki/Digital_object_iden...</td>\n",
       "      <td>0</td>\n",
       "    </tr>\n",
       "  </tbody>\n",
       "</table>\n",
       "</div>"
      ],
      "text/plain": [
       "   Unnamed: 0                                           Sentence  Label\n",
       "0           0  <li><a href=\"/wiki/File:Socrates.png\" class=\"i...      0\n",
       "1           1               <tt onmouseover=\"alert(1)\">test</tt>      1\n",
       "2           2  \\t </span> <span class=\"reference-text\">Steeri...      0\n",
       "3           3  \\t </span> <span class=\"reference-text\"><cite ...      0\n",
       "4           4  \\t </span>. <a href=\"/wiki/Digital_object_iden...      0"
      ]
     },
     "execution_count": 4,
     "metadata": {},
     "output_type": "execute_result"
    }
   ],
   "source": [
    "df.head()"
   ]
  },
  {
   "cell_type": "code",
   "execution_count": 5,
   "id": "11d9845e",
   "metadata": {
    "execution": {
     "iopub.execute_input": "2022-09-07T19:09:10.014449Z",
     "iopub.status.busy": "2022-09-07T19:09:10.013800Z",
     "iopub.status.idle": "2022-09-07T19:09:10.022233Z",
     "shell.execute_reply": "2022-09-07T19:09:10.021592Z"
    },
    "papermill": {
     "duration": 0.021169,
     "end_time": "2022-09-07T19:09:10.024318",
     "exception": false,
     "start_time": "2022-09-07T19:09:10.003149",
     "status": "completed"
    },
    "tags": []
   },
   "outputs": [
    {
     "data": {
      "text/plain": [
       "Unnamed: 0    0\n",
       "Sentence      0\n",
       "Label         0\n",
       "dtype: int64"
      ]
     },
     "execution_count": 5,
     "metadata": {},
     "output_type": "execute_result"
    }
   ],
   "source": [
    "df.isna().sum()"
   ]
  },
  {
   "cell_type": "code",
   "execution_count": 6,
   "id": "7c979953",
   "metadata": {
    "execution": {
     "iopub.execute_input": "2022-09-07T19:09:10.046191Z",
     "iopub.status.busy": "2022-09-07T19:09:10.045490Z",
     "iopub.status.idle": "2022-09-07T19:09:10.053678Z",
     "shell.execute_reply": "2022-09-07T19:09:10.052697Z"
    },
    "papermill": {
     "duration": 0.021364,
     "end_time": "2022-09-07T19:09:10.055876",
     "exception": false,
     "start_time": "2022-09-07T19:09:10.034512",
     "status": "completed"
    },
    "tags": []
   },
   "outputs": [],
   "source": [
    "text = ''.join(df['Sentence'].tolist())"
   ]
  },
  {
   "cell_type": "code",
   "execution_count": 7,
   "id": "b687f883",
   "metadata": {
    "execution": {
     "iopub.execute_input": "2022-09-07T19:09:10.077126Z",
     "iopub.status.busy": "2022-09-07T19:09:10.076461Z",
     "iopub.status.idle": "2022-09-07T19:09:10.607593Z",
     "shell.execute_reply": "2022-09-07T19:09:10.606698Z"
    },
    "papermill": {
     "duration": 0.544378,
     "end_time": "2022-09-07T19:09:10.609960",
     "exception": false,
     "start_time": "2022-09-07T19:09:10.065582",
     "status": "completed"
    },
    "tags": []
   },
   "outputs": [],
   "source": [
    "word_cloud = WordCloud(collocations = False, background_color = 'white').generate(text)"
   ]
  },
  {
   "cell_type": "code",
   "execution_count": 8,
   "id": "cadd41f2",
   "metadata": {
    "execution": {
     "iopub.execute_input": "2022-09-07T19:09:10.630437Z",
     "iopub.status.busy": "2022-09-07T19:09:10.630031Z",
     "iopub.status.idle": "2022-09-07T19:09:10.809436Z",
     "shell.execute_reply": "2022-09-07T19:09:10.808594Z"
    },
    "papermill": {
     "duration": 0.195746,
     "end_time": "2022-09-07T19:09:10.815306",
     "exception": false,
     "start_time": "2022-09-07T19:09:10.619560",
     "status": "completed"
    },
    "tags": []
   },
   "outputs": [
    {
     "data": {
      "image/png": "[encoded data removed]",
      "text/plain": [
       "<Figure size 432x288 with 1 Axes>"
      ]
     },
     "metadata": {
      "needs_background": "light"
     },
     "output_type": "display_data"
    }
   ],
   "source": [
    "plt.imshow(word_cloud, interpolation='bilinear')\n",
    "plt.axis(\"off\")\n",
    "plt.show()"
   ]
  },
  {
   "cell_type": "code",
   "execution_count": 9,
   "id": "a3e1ce60",
   "metadata": {
    "execution": {
     "iopub.execute_input": "2022-09-07T19:09:10.850832Z",
     "iopub.status.busy": "2022-09-07T19:09:10.850086Z",
     "iopub.status.idle": "2022-09-07T19:09:11.015779Z",
     "shell.execute_reply": "2022-09-07T19:09:11.015046Z"
    },
    "papermill": {
     "duration": 0.184436,
     "end_time": "2022-09-07T19:09:11.017742",
     "exception": false,
     "start_time": "2022-09-07T19:09:10.833306",
     "status": "completed"
    },
    "tags": []
   },
   "outputs": [
    {
     "data": {
      "text/plain": [
       "<AxesSubplot:xlabel='Label', ylabel='count'>"
      ]
     },
     "execution_count": 9,
     "metadata": {},
     "output_type": "execute_result"
    },
    {
     "data": {
      "image/png": "[encoded data removed]",
      "text/plain": [
       "<Figure size 432x288 with 1 Axes>"
      ]
     },
     "metadata": {
      "needs_background": "light"
     },
     "output_type": "display_data"
    }
   ],
   "source": [
    "sns.countplot(x='Label',data=df)"
   ]
  },
  {
   "cell_type": "code",
   "execution_count": 10,
   "id": "10a3cb7e",
   "metadata": {
    "execution": {
     "iopub.execute_input": "2022-09-07T19:09:11.042174Z",
     "iopub.status.busy": "2022-09-07T19:09:11.041525Z",
     "iopub.status.idle": "2022-09-07T19:09:31.094078Z",
     "shell.execute_reply": "2022-09-07T19:09:31.093066Z"
    },
    "papermill": {
     "duration": 20.067691,
     "end_time": "2022-09-07T19:09:31.096817",
     "exception": false,
     "start_time": "2022-09-07T19:09:11.029126",
     "status": "completed"
    },
    "tags": []
   },
   "outputs": [
    {
     "name": "stdout",
     "output_type": "stream",
     "text": [
      "[nltk_data] Error loading stopwords: <urlopen error [Errno -3]\n",
      "[nltk_data]     Temporary failure in name resolution>\n"
     ]
    },
    {
     "data": {
      "text/plain": [
       "False"
      ]
     },
     "execution_count": 10,
     "metadata": {},
     "output_type": "execute_result"
    }
   ],
   "source": [
    "import nltk\n",
    "\n",
    "nltk.download('stopwords')"
   ]
  },
  {
   "cell_type": "code",
   "execution_count": 11,
   "id": "cb978c89",
   "metadata": {
    "execution": {
     "iopub.execute_input": "2022-09-07T19:09:31.121602Z",
     "iopub.status.busy": "2022-09-07T19:09:31.120958Z",
     "iopub.status.idle": "2022-09-07T19:09:32.405630Z",
     "shell.execute_reply": "2022-09-07T19:09:32.404415Z"
    },
    "papermill": {
     "duration": 1.299536,
     "end_time": "2022-09-07T19:09:32.407865",
     "exception": false,
     "start_time": "2022-09-07T19:09:31.108329",
     "status": "completed"
    },
    "tags": []
   },
   "outputs": [
    {
     "name": "stdout",
     "output_type": "stream",
     "text": [
      "(10948, 5640)\n",
      "(10948,)\n",
      "(2738, 5640)\n",
      "(2738,)\n"
     ]
    }
   ],
   "source": [
    "vectorizer = CountVectorizer(min_df = 2, max_df = 0.8, stop_words = stopwords.words('english'))\n",
    "X = vectorizer.fit_transform(X.values.astype('U')).toarray()\n",
    "\n",
    "X_train, X_test, y_train, y_test = train_test_split(X, y, test_size = 0.2, random_state=1)\n",
    "print(X_train.shape)\n",
    "print(y_train.shape)\n",
    "print(X_test.shape)\n",
    "print(y_test.shape)"
   ]
  },
  {
   "cell_type": "code",
   "execution_count": 12,
   "id": "7caab4a9",
   "metadata": {
    "execution": {
     "iopub.execute_input": "2022-09-07T19:09:32.432863Z",
     "iopub.status.busy": "2022-09-07T19:09:32.432480Z",
     "iopub.status.idle": "2022-09-07T19:09:34.249558Z",
     "shell.execute_reply": "2022-09-07T19:09:34.248536Z"
    },
    "papermill": {
     "duration": 1.832895,
     "end_time": "2022-09-07T19:09:34.252720",
     "exception": false,
     "start_time": "2022-09-07T19:09:32.419825",
     "status": "completed"
    },
    "tags": []
   },
   "outputs": [
    {
     "name": "stdout",
     "output_type": "stream",
     "text": [
      "Accuracy of Logistic Regression on test set : 0.9985390796201608\n",
      "F1 Score of Logistic Regression on test set : 0.9986101459346769\n",
      "sensitivity= 0.9979166666666667\n",
      "specificity= 0.9992295839753467\n",
      "Precision= 0.9993045897079277\n"
     ]
    }
   ],
   "source": [
    "lr = LogisticRegression()\n",
    "lr.fit(X_train, y_train)\n",
    "y_pred = lr.predict(X_test)\n",
    "print(f\"Accuracy of Logistic Regression on test set : {accuracy_score(y_pred, y_test)}\")\n",
    "print(f\"F1 Score of Logistic Regression on test set : {f1_score(y_pred, y_test)}\")\n",
    "confusion = confusion_matrix(y_test, y_pred)\n",
    "\n",
    "TP = confusion[1, 1]\n",
    "TN = confusion[0, 0]\n",
    "FP = confusion[0, 1]\n",
    "FN = confusion[1, 0]\n",
    "\n",
    "sensitivity = TP / float(FN + TP)\n",
    "\n",
    "print(\"sensitivity=\",sensitivity)\n",
    "specificity = TN / (TN + FP)\n",
    "print(\"specificity=\",specificity)\n",
    "\n",
    "\n",
    "Precision = TP / float(TP + FP)\n",
    "Recall = TP / float(TP + FN)\n",
    "F1 = 2*((Precision*Recall)/(Precision+Recall))\n",
    "print (\"Precision=\",Precision)"
   ]
  },
  {
   "cell_type": "code",
   "execution_count": 13,
   "id": "65ca3a70",
   "metadata": {
    "execution": {
     "iopub.execute_input": "2022-09-07T19:09:34.293878Z",
     "iopub.status.busy": "2022-09-07T19:09:34.292795Z",
     "iopub.status.idle": "2022-09-07T19:09:34.527967Z",
     "shell.execute_reply": "2022-09-07T19:09:34.526946Z"
    },
    "papermill": {
     "duration": 0.257622,
     "end_time": "2022-09-07T19:09:34.530136",
     "exception": false,
     "start_time": "2022-09-07T19:09:34.272514",
     "status": "completed"
    },
    "tags": []
   },
   "outputs": [
    {
     "data": {
      "text/plain": [
       "<AxesSubplot:>"
      ]
     },
     "execution_count": 13,
     "metadata": {},
     "output_type": "execute_result"
    },
    {
     "data": {
      "image/png": "[encoded data removed]",
      "text/plain": [
       "<Figure size 432x288 with 2 Axes>"
      ]
     },
     "metadata": {
      "needs_background": "light"
     },
     "output_type": "display_data"
    }
   ],
   "source": [
    "from sklearn.metrics import confusion_matrix\n",
    "cf_matrix_lr = confusion_matrix(y_test, y_pred)\n",
    "sns.heatmap(cf_matrix_lr, annot=True)"
   ]
  },
  {
   "cell_type": "code",
   "execution_count": 14,
   "id": "981a126e",
   "metadata": {
    "execution": {
     "iopub.execute_input": "2022-09-07T19:09:34.555353Z",
     "iopub.status.busy": "2022-09-07T19:09:34.554935Z",
     "iopub.status.idle": "2022-09-07T19:09:34.559300Z",
     "shell.execute_reply": "2022-09-07T19:09:34.558445Z"
    },
    "papermill": {
     "duration": 0.01912,
     "end_time": "2022-09-07T19:09:34.561213",
     "exception": false,
     "start_time": "2022-09-07T19:09:34.542093",
     "status": "completed"
    },
    "tags": []
   },
   "outputs": [],
   "source": [
    "from sklearn.ensemble import AdaBoostClassifier"
   ]
  },
  {
   "cell_type": "code",
   "execution_count": 15,
   "id": "00c0c593",
   "metadata": {
    "execution": {
     "iopub.execute_input": "2022-09-07T19:09:34.586454Z",
     "iopub.status.busy": "2022-09-07T19:09:34.586042Z",
     "iopub.status.idle": "2022-09-07T19:11:28.076955Z",
     "shell.execute_reply": "2022-09-07T19:11:28.075314Z"
    },
    "papermill": {
     "duration": 113.523723,
     "end_time": "2022-09-07T19:11:28.096968",
     "exception": false,
     "start_time": "2022-09-07T19:09:34.573245",
     "status": "completed"
    },
    "tags": []
   },
   "outputs": [
    {
     "name": "stdout",
     "output_type": "stream",
     "text": [
      "Accuracy of AadaBoost on test set : 0.9992695398100804\n",
      "F1 Score of AadaBoost on test set : 0.9993050729673384\n",
      "sensitivity= 0.9986111111111111\n",
      "specificity= 1.0\n",
      "Precision= 1.0\n"
     ]
    }
   ],
   "source": [
    "lr_clf = AdaBoostClassifier(n_estimators=100)\n",
    "lr_clf.fit(X_train, y_train)\n",
    "y_pred = lr_clf.predict(X_test)\n",
    "print(f\"Accuracy of AadaBoost on test set : {accuracy_score(y_pred, y_test)}\")\n",
    "print(f\"F1 Score of AadaBoost on test set : {f1_score(y_pred, y_test)}\")\n",
    "confusion = confusion_matrix(y_test, y_pred)\n",
    "\n",
    "TP = confusion[1, 1]\n",
    "TN = confusion[0, 0]\n",
    "FP = confusion[0, 1]\n",
    "FN = confusion[1, 0]\n",
    "\n",
    "sensitivity = TP / float(FN + TP)\n",
    "\n",
    "print(\"sensitivity=\",sensitivity)\n",
    "specificity = TN / (TN + FP)\n",
    "print(\"specificity=\",specificity)\n",
    "\n",
    "\n",
    "Precision = TP / float(TP + FP)\n",
    "Recall = TP / float(TP + FN)\n",
    "F1 = 2*((Precision*Recall)/(Precision+Recall))\n",
    "print (\"Precision=\",Precision)"
   ]
  },
  {
   "cell_type": "code",
   "execution_count": 16,
   "id": "6441e8fb",
   "metadata": {
    "execution": {
     "iopub.execute_input": "2022-09-07T19:11:28.123788Z",
     "iopub.status.busy": "2022-09-07T19:11:28.123146Z",
     "iopub.status.idle": "2022-09-07T19:11:28.347439Z",
     "shell.execute_reply": "2022-09-07T19:11:28.346474Z"
    },
    "papermill": {
     "duration": 0.24049,
     "end_time": "2022-09-07T19:11:28.349660",
     "exception": false,
     "start_time": "2022-09-07T19:11:28.109170",
     "status": "completed"
    },
    "tags": []
   },
   "outputs": [
    {
     "data": {
      "text/plain": [
       "<AxesSubplot:>"
      ]
     },
     "execution_count": 16,
     "metadata": {},
     "output_type": "execute_result"
    },
    {
     "data": {
      "image/png": "[encoded data removed]",
      "text/plain": [
       "<Figure size 432x288 with 2 Axes>"
      ]
     },
     "metadata": {
      "needs_background": "light"
     },
     "output_type": "display_data"
    }
   ],
   "source": [
    "from sklearn.metrics import confusion_matrix\n",
    "cf_matrix_ada = confusion_matrix(y_test, y_pred)\n",
    "sns.heatmap(cf_matrix_ada, annot=True)"
   ]
  },
  {
   "cell_type": "code",
   "execution_count": 17,
   "id": "f811f309",
   "metadata": {
    "execution": {
     "iopub.execute_input": "2022-09-07T19:11:28.375639Z",
     "iopub.status.busy": "2022-09-07T19:11:28.375221Z",
     "iopub.status.idle": "2022-09-07T19:11:29.606270Z",
     "shell.execute_reply": "2022-09-07T19:11:29.605328Z"
    },
    "papermill": {
     "duration": 1.246768,
     "end_time": "2022-09-07T19:11:29.608639",
     "exception": false,
     "start_time": "2022-09-07T19:11:28.361871",
     "status": "completed"
    },
    "tags": []
   },
   "outputs": [
    {
     "name": "stdout",
     "output_type": "stream",
     "text": [
      "Accuracy of Naive Bayes on test set : 0.8889700511322133\n",
      "F1 Score of Naive Bayes on test set : 0.9044626021370208\n",
      "sensitivity= 0.9993055555555556\n",
      "specificity= 0.7665639445300462\n",
      "Precision= 0.8260619977037887\n"
     ]
    }
   ],
   "source": [
    "nb = GaussianNB()\n",
    "nb.fit(X_train, y_train)\n",
    "y_pred = nb.predict(X_test)\n",
    "print(f\"Accuracy of Naive Bayes on test set : {accuracy_score(y_pred, y_test)}\")\n",
    "print(f\"F1 Score of Naive Bayes on test set : {f1_score(y_pred, y_test)}\")\n",
    "\n",
    "confusion = confusion_matrix(y_test, y_pred)\n",
    "\n",
    "TP = confusion[1, 1]\n",
    "TN = confusion[0, 0]\n",
    "FP = confusion[0, 1]\n",
    "FN = confusion[1, 0]\n",
    "\n",
    "sensitivity = TP / float(FN + TP)\n",
    "\n",
    "print(\"sensitivity=\",sensitivity)\n",
    "specificity = TN / (TN + FP)\n",
    "print(\"specificity=\",specificity)\n",
    "\n",
    "\n",
    "Precision = TP / float(TP + FP)\n",
    "Recall = TP / float(TP + FN)\n",
    "F1 = 2*((Precision*Recall)/(Precision+Recall))\n",
    "print (\"Precision=\",Precision)"
   ]
  },
  {
   "cell_type": "code",
   "execution_count": 18,
   "id": "da8e6cb5",
   "metadata": {
    "execution": {
     "iopub.execute_input": "2022-09-07T19:11:29.635076Z",
     "iopub.status.busy": "2022-09-07T19:11:29.634648Z",
     "iopub.status.idle": "2022-09-07T19:11:29.847558Z",
     "shell.execute_reply": "2022-09-07T19:11:29.846792Z"
    },
    "papermill": {
     "duration": 0.228605,
     "end_time": "2022-09-07T19:11:29.849623",
     "exception": false,
     "start_time": "2022-09-07T19:11:29.621018",
     "status": "completed"
    },
    "tags": []
   },
   "outputs": [
    {
     "data": {
      "text/plain": [
       "<AxesSubplot:>"
      ]
     },
     "execution_count": 18,
     "metadata": {},
     "output_type": "execute_result"
    },
    {
     "data": {
      "image/png": "[encoded data removed]",
      "text/plain": [
       "<Figure size 432x288 with 2 Axes>"
      ]
     },
     "metadata": {
      "needs_background": "light"
     },
     "output_type": "display_data"
    }
   ],
   "source": [
    "from sklearn.metrics import confusion_matrix\n",
    "cf_matrix_gnb = confusion_matrix(y_test, y_pred)\n",
    "sns.heatmap(cf_matrix_gnb, annot=True)"
   ]
  },
  {
   "cell_type": "code",
   "execution_count": 19,
   "id": "2fad866f",
   "metadata": {
    "execution": {
     "iopub.execute_input": "2022-09-07T19:11:29.878095Z",
     "iopub.status.busy": "2022-09-07T19:11:29.877370Z",
     "iopub.status.idle": "2022-09-07T19:11:30.018244Z",
     "shell.execute_reply": "2022-09-07T19:11:30.017342Z"
    },
    "papermill": {
     "duration": 0.157825,
     "end_time": "2022-09-07T19:11:30.020871",
     "exception": false,
     "start_time": "2022-09-07T19:11:29.863046",
     "status": "completed"
    },
    "tags": []
   },
   "outputs": [],
   "source": [
    "import xgboost as xgb"
   ]
  },
  {
   "cell_type": "code",
   "execution_count": 20,
   "id": "a454c06e",
   "metadata": {
    "execution": {
     "iopub.execute_input": "2022-09-07T19:11:30.048848Z",
     "iopub.status.busy": "2022-09-07T19:11:30.047792Z",
     "iopub.status.idle": "2022-09-07T19:13:21.885320Z",
     "shell.execute_reply": "2022-09-07T19:13:21.884500Z"
    },
    "papermill": {
     "duration": 111.867111,
     "end_time": "2022-09-07T19:13:21.900738",
     "exception": false,
     "start_time": "2022-09-07T19:11:30.033627",
     "status": "completed"
    },
    "tags": []
   },
   "outputs": [
    {
     "name": "stdout",
     "output_type": "stream",
     "text": [
      "Accuracy of XGBoost on test set : 0.9970781592403214\n",
      "F1 Score of XGBoost on test set : 0.9972183588317107\n",
      "sensitivity= 0.9958333333333333\n",
      "specificity= 0.9984591679506933\n",
      "Precision= 0.9986072423398329\n"
     ]
    }
   ],
   "source": [
    "xgb_mod = xgb.XGBClassifier(n_estimators=100)\n",
    "xgb_mod.fit(X_train, y_train)\n",
    "y_pred = xgb_mod.predict(X_test)\n",
    "print(f\"Accuracy of XGBoost on test set : {accuracy_score(y_pred, y_test)}\")\n",
    "print(f\"F1 Score of XGBoost on test set : {f1_score(y_pred, y_test)}\")\n",
    "confusion = confusion_matrix(y_test, y_pred)\n",
    "\n",
    "TP = confusion[1, 1]\n",
    "TN = confusion[0, 0]\n",
    "FP = confusion[0, 1]\n",
    "FN = confusion[1, 0]\n",
    "\n",
    "sensitivity = TP / float(FN + TP)\n",
    "\n",
    "print(\"sensitivity=\",sensitivity)\n",
    "specificity = TN / (TN + FP)\n",
    "print(\"specificity=\",specificity)\n",
    "\n",
    "\n",
    "Precision = TP / float(TP + FP)\n",
    "Recall = TP / float(TP + FN)\n",
    "F1 = 2*((Precision*Recall)/(Precision+Recall))\n",
    "print (\"Precision=\",Precision)"
   ]
  },
  {
   "cell_type": "code",
   "execution_count": 21,
   "id": "a6040589",
   "metadata": {
    "execution": {
     "iopub.execute_input": "2022-09-07T19:13:21.927795Z",
     "iopub.status.busy": "2022-09-07T19:13:21.927155Z",
     "iopub.status.idle": "2022-09-07T19:13:22.140043Z",
     "shell.execute_reply": "2022-09-07T19:13:22.139013Z"
    },
    "papermill": {
     "duration": 0.228815,
     "end_time": "2022-09-07T19:13:22.142132",
     "exception": false,
     "start_time": "2022-09-07T19:13:21.913317",
     "status": "completed"
    },
    "tags": []
   },
   "outputs": [
    {
     "data": {
      "text/plain": [
       "<AxesSubplot:>"
      ]
     },
     "execution_count": 21,
     "metadata": {},
     "output_type": "execute_result"
    },
    {
     "data": {
      "image/png": "[encoded data removed]",
      "text/plain": [
       "<Figure size 432x288 with 2 Axes>"
      ]
     },
     "metadata": {
      "needs_background": "light"
     },
     "output_type": "display_data"
    }
   ],
   "source": [
    "from sklearn.metrics import confusion_matrix\n",
    "cf_matrix_xgb = confusion_matrix(y_test, y_pred)\n",
    "sns.heatmap(cf_matrix_xgb, annot=True)"
   ]
  },
  {
   "cell_type": "code",
   "execution_count": 22,
   "id": "fd84fd3a",
   "metadata": {
    "execution": {
     "iopub.execute_input": "2022-09-07T19:13:22.170395Z",
     "iopub.status.busy": "2022-09-07T19:13:22.169578Z",
     "iopub.status.idle": "2022-09-07T19:13:22.173896Z",
     "shell.execute_reply": "2022-09-07T19:13:22.173187Z"
    },
    "papermill": {
     "duration": 0.020343,
     "end_time": "2022-09-07T19:13:22.175780",
     "exception": false,
     "start_time": "2022-09-07T19:13:22.155437",
     "status": "completed"
    },
    "tags": []
   },
   "outputs": [],
   "source": [
    "import numpy as nm  \n",
    "import matplotlib.pyplot as mtp"
   ]
  },
  {
   "cell_type": "code",
   "execution_count": 23,
   "id": "3cb692da",
   "metadata": {
    "execution": {
     "iopub.execute_input": "2022-09-07T19:13:22.204167Z",
     "iopub.status.busy": "2022-09-07T19:13:22.203377Z",
     "iopub.status.idle": "2022-09-07T19:13:22.207901Z",
     "shell.execute_reply": "2022-09-07T19:13:22.206895Z"
    },
    "papermill": {
     "duration": 0.02092,
     "end_time": "2022-09-07T19:13:22.209851",
     "exception": false,
     "start_time": "2022-09-07T19:13:22.188931",
     "status": "completed"
    },
    "tags": []
   },
   "outputs": [],
   "source": [
    "from sklearn.tree import DecisionTreeClassifier"
   ]
  },
  {
   "cell_type": "code",
   "execution_count": 24,
   "id": "6e28fbd1",
   "metadata": {
    "execution": {
     "iopub.execute_input": "2022-09-07T19:13:22.238366Z",
     "iopub.status.busy": "2022-09-07T19:13:22.237785Z",
     "iopub.status.idle": "2022-09-07T19:13:24.594769Z",
     "shell.execute_reply": "2022-09-07T19:13:24.593589Z"
    },
    "papermill": {
     "duration": 2.373827,
     "end_time": "2022-09-07T19:13:24.597081",
     "exception": false,
     "start_time": "2022-09-07T19:13:22.223254",
     "status": "completed"
    },
    "tags": []
   },
   "outputs": [
    {
     "name": "stdout",
     "output_type": "stream",
     "text": [
      "Accuracy of Decision Tree on test set : 0.9989043097151206\n",
      "F1 Score of Decision Tree on test set : 0.9989579715178881\n",
      "sensitivity= 0.9986111111111111\n",
      "specificity= 0.9992295839753467\n",
      "Precision= 0.9993050729673384\n"
     ]
    }
   ],
   "source": [
    "nb_clf = DecisionTreeClassifier(criterion='entropy', random_state=0)\n",
    "nb_clf.fit(X_train, y_train)\n",
    "y_pred = nb_clf.predict(X_test)\n",
    "print(f\"Accuracy of Decision Tree on test set : {accuracy_score(y_pred, y_test)}\")\n",
    "print(f\"F1 Score of Decision Tree on test set : {f1_score(y_pred, y_test)}\")\n",
    "confusion = confusion_matrix(y_test, y_pred)\n",
    "\n",
    "TP = confusion[1, 1]\n",
    "TN = confusion[0, 0]\n",
    "FP = confusion[0, 1]\n",
    "FN = confusion[1, 0]\n",
    "\n",
    "sensitivity = TP / float(FN + TP)\n",
    "\n",
    "print(\"sensitivity=\",sensitivity)\n",
    "specificity = TN / (TN + FP)\n",
    "print(\"specificity=\",specificity)\n",
    "\n",
    "\n",
    "Precision = TP / float(TP + FP)\n",
    "Recall = TP / float(TP + FN)\n",
    "F1 = 2*((Precision*Recall)/(Precision+Recall))\n",
    "print (\"Precision=\",Precision)"
   ]
  },
  {
   "cell_type": "code",
   "execution_count": 25,
   "id": "3f176ac0",
   "metadata": {
    "execution": {
     "iopub.execute_input": "2022-09-07T19:13:24.624917Z",
     "iopub.status.busy": "2022-09-07T19:13:24.624532Z",
     "iopub.status.idle": "2022-09-07T19:13:24.835503Z",
     "shell.execute_reply": "2022-09-07T19:13:24.834482Z"
    },
    "papermill": {
     "duration": 0.22791,
     "end_time": "2022-09-07T19:13:24.838143",
     "exception": false,
     "start_time": "2022-09-07T19:13:24.610233",
     "status": "completed"
    },
    "tags": []
   },
   "outputs": [
    {
     "data": {
      "text/plain": [
       "<AxesSubplot:>"
      ]
     },
     "execution_count": 25,
     "metadata": {},
     "output_type": "execute_result"
    },
    {
     "data": {
      "image/png": "[encoded data removed]",
      "text/plain": [
       "<Figure size 432x288 with 2 Axes>"
      ]
     },
     "metadata": {
      "needs_background": "light"
     },
     "output_type": "display_data"
    }
   ],
   "source": [
    "from sklearn.metrics import confusion_matrix\n",
    "cf_matrix_dt = confusion_matrix(y_test, y_pred)\n",
    "sns.heatmap(cf_matrix_dt, annot=True)"
   ]
  },
  {
   "cell_type": "markdown",
   "id": "64d59914",
   "metadata": {
    "papermill": {
     "duration": 0.013022,
     "end_time": "2022-09-07T19:13:24.864729",
     "exception": false,
     "start_time": "2022-09-07T19:13:24.851707",
     "status": "completed"
    },
    "tags": []
   },
   "source": [
    "# Hyperparameter Tuning"
   ]
  },
  {
   "cell_type": "code",
   "execution_count": 26,
   "id": "30a85130",
   "metadata": {
    "execution": {
     "iopub.execute_input": "2022-09-07T19:13:24.893065Z",
     "iopub.status.busy": "2022-09-07T19:13:24.892348Z",
     "iopub.status.idle": "2022-09-07T19:13:24.896263Z",
     "shell.execute_reply": "2022-09-07T19:13:24.895581Z"
    },
    "papermill": {
     "duration": 0.020152,
     "end_time": "2022-09-07T19:13:24.898054",
     "exception": false,
     "start_time": "2022-09-07T19:13:24.877902",
     "status": "completed"
    },
    "tags": []
   },
   "outputs": [],
   "source": [
    "from sklearn.model_selection import GridSearchCV"
   ]
  },
  {
   "cell_type": "code",
   "execution_count": 27,
   "id": "3bf63be3",
   "metadata": {
    "execution": {
     "iopub.execute_input": "2022-09-07T19:13:24.926634Z",
     "iopub.status.busy": "2022-09-07T19:13:24.925972Z",
     "iopub.status.idle": "2022-09-07T19:16:11.950157Z",
     "shell.execute_reply": "2022-09-07T19:16:11.947941Z"
    },
    "papermill": {
     "duration": 167.058797,
     "end_time": "2022-09-07T19:16:11.970271",
     "exception": false,
     "start_time": "2022-09-07T19:13:24.911474",
     "status": "completed"
    },
    "tags": []
   },
   "outputs": [
    {
     "data": {
      "text/plain": [
       "GridSearchCV(cv=10, estimator=LogisticRegression(),\n",
       "             param_grid={'C': array([1.e-03, 1.e-02, 1.e-01, 1.e+00, 1.e+01, 1.e+02, 1.e+03]),\n",
       "                         'penalty': ['l1', 'l2']})"
      ]
     },
     "execution_count": 27,
     "metadata": {},
     "output_type": "execute_result"
    }
   ],
   "source": [
    "# For Logistic Regression\n",
    "grid={\"C\":np.logspace(-3,3,7), \"penalty\":[\"l1\",\"l2\"]}# l1 lasso l2 ridge\n",
    "lr_cv=GridSearchCV(lr,grid,cv=10)\n",
    "lr_cv.fit(X_train,y_train)"
   ]
  },
  {
   "cell_type": "code",
   "execution_count": 28,
   "id": "bfb6b754",
   "metadata": {
    "execution": {
     "iopub.execute_input": "2022-09-07T19:16:12.021218Z",
     "iopub.status.busy": "2022-09-07T19:16:12.019878Z",
     "iopub.status.idle": "2022-09-07T19:16:12.098722Z",
     "shell.execute_reply": "2022-09-07T19:16:12.096758Z"
    },
    "papermill": {
     "duration": 0.109581,
     "end_time": "2022-09-07T19:16:12.103107",
     "exception": false,
     "start_time": "2022-09-07T19:16:11.993526",
     "status": "completed"
    },
    "tags": []
   },
   "outputs": [
    {
     "name": "stdout",
     "output_type": "stream",
     "text": [
      "Accuracy of Logistic Regression on test set : 0.9989043097151206\n",
      "F1 Score of Logistic Regression on test set : 0.9989579715178881\n",
      "sensitivity= 0.9986111111111111\n",
      "specificity= 0.9992295839753467\n",
      "Precision= 0.9993050729673384\n"
     ]
    }
   ],
   "source": [
    "y_pred = lr_cv.predict(X_test)\n",
    "acc_lr = accuracy_score(y_pred, y_test)\n",
    "print(f\"Accuracy of Logistic Regression on test set : {accuracy_score(y_pred, y_test)}\")\n",
    "print(f\"F1 Score of Logistic Regression on test set : {f1_score(y_pred, y_test)}\")\n",
    "confusion = confusion_matrix(y_test, y_pred)\n",
    "\n",
    "TP = confusion[1, 1]\n",
    "TN = confusion[0, 0]\n",
    "FP = confusion[0, 1]\n",
    "FN = confusion[1, 0]\n",
    "\n",
    "sensitivity = TP / float(FN + TP)\n",
    "\n",
    "print(\"sensitivity=\",sensitivity)\n",
    "specificity = TN / (TN + FP)\n",
    "print(\"specificity=\",specificity)\n",
    "\n",
    "\n",
    "Precision = TP / float(TP + FP)\n",
    "Recall = TP / float(TP + FN)\n",
    "F1 = 2*((Precision*Recall)/(Precision+Recall))\n",
    "print (\"Precision=\",Precision)"
   ]
  },
  {
   "cell_type": "code",
   "execution_count": 29,
   "id": "131693a7",
   "metadata": {
    "execution": {
     "iopub.execute_input": "2022-09-07T19:16:12.155842Z",
     "iopub.status.busy": "2022-09-07T19:16:12.155132Z",
     "iopub.status.idle": "2022-09-07T19:21:15.372121Z",
     "shell.execute_reply": "2022-09-07T19:21:15.370929Z"
    },
    "papermill": {
     "duration": 303.259586,
     "end_time": "2022-09-07T19:21:15.388056",
     "exception": false,
     "start_time": "2022-09-07T19:16:12.128470",
     "status": "completed"
    },
    "tags": []
   },
   "outputs": [
    {
     "name": "stdout",
     "output_type": "stream",
     "text": [
      "Fitting 5 folds for each of 14 candidates, totalling 70 fits\n"
     ]
    },
    {
     "data": {
      "text/plain": [
       "GridSearchCV(cv=5, estimator=AdaBoostClassifier(n_estimators=100), n_jobs=10,\n",
       "             param_grid={'n_estimators': [1, 2, 3, 4, 5, 6, 7, 8, 9, 10, 11, 12,\n",
       "                                          20, 30]},\n",
       "             verbose=1)"
      ]
     },
     "execution_count": 29,
     "metadata": {},
     "output_type": "execute_result"
    }
   ],
   "source": [
    "# For Adaboost\n",
    "parameters = {\n",
    "    'n_estimators': [1, 2, 3, 4, 5, 6, 7, 8, 9, 10, 11, 12, 20, 30]\n",
    "}\n",
    "clf = GridSearchCV(lr_clf, parameters, cv=5, verbose=1, n_jobs=10)\n",
    "clf.fit(X_train, y_train)"
   ]
  },
  {
   "cell_type": "code",
   "execution_count": 30,
   "id": "c86f6f8c",
   "metadata": {
    "execution": {
     "iopub.execute_input": "2022-09-07T19:21:15.418059Z",
     "iopub.status.busy": "2022-09-07T19:21:15.417255Z",
     "iopub.status.idle": "2022-09-07T19:21:16.684603Z",
     "shell.execute_reply": "2022-09-07T19:21:16.683433Z"
    },
    "papermill": {
     "duration": 1.286028,
     "end_time": "2022-09-07T19:21:16.687855",
     "exception": false,
     "start_time": "2022-09-07T19:21:15.401827",
     "status": "completed"
    },
    "tags": []
   },
   "outputs": [
    {
     "name": "stdout",
     "output_type": "stream",
     "text": [
      "Accuracy of AadaBoost on test set : 0.9985390796201608\n",
      "F1 Score of AadaBoost on test set : 0.9986101459346769\n",
      "sensitivity= 0.9979166666666667\n",
      "specificity= 0.9992295839753467\n",
      "Precision= 0.9993045897079277\n"
     ]
    }
   ],
   "source": [
    "y_pred = clf.predict(X_test)\n",
    "acc_ada = accuracy_score(y_pred, y_test)\n",
    "print(f\"Accuracy of AadaBoost on test set : {accuracy_score(y_pred, y_test)}\")\n",
    "print(f\"F1 Score of AadaBoost on test set : {f1_score(y_pred, y_test)}\")\n",
    "confusion = confusion_matrix(y_test, y_pred)\n",
    "\n",
    "TP = confusion[1, 1]\n",
    "TN = confusion[0, 0]\n",
    "FP = confusion[0, 1]\n",
    "FN = confusion[1, 0]\n",
    "\n",
    "sensitivity = TP / float(FN + TP)\n",
    "\n",
    "print(\"sensitivity=\",sensitivity)\n",
    "specificity = TN / (TN + FP)\n",
    "print(\"specificity=\",specificity)\n",
    "\n",
    "\n",
    "Precision = TP / float(TP + FP)\n",
    "Recall = TP / float(TP + FN)\n",
    "F1 = 2*((Precision*Recall)/(Precision+Recall))\n",
    "print (\"Precision=\",Precision)"
   ]
  },
  {
   "cell_type": "code",
   "execution_count": 31,
   "id": "64a57658",
   "metadata": {
    "execution": {
     "iopub.execute_input": "2022-09-07T19:21:16.718716Z",
     "iopub.status.busy": "2022-09-07T19:21:16.718309Z",
     "iopub.status.idle": "2022-09-07T19:25:23.702712Z",
     "shell.execute_reply": "2022-09-07T19:25:23.701617Z"
    },
    "papermill": {
     "duration": 247.016153,
     "end_time": "2022-09-07T19:25:23.719026",
     "exception": false,
     "start_time": "2022-09-07T19:21:16.702873",
     "status": "completed"
    },
    "tags": []
   },
   "outputs": [
    {
     "name": "stdout",
     "output_type": "stream",
     "text": [
      "Fitting 5 folds for each of 100 candidates, totalling 500 fits\n"
     ]
    },
    {
     "data": {
      "text/plain": [
       "GridSearchCV(cv=5, estimator=GaussianNB(), n_jobs=10,\n",
       "             param_grid={'var_smoothing': array([1.00000000e+00, 8.11130831e-01, 6.57933225e-01, 5.33669923e-01,\n",
       "       4.32876128e-01, 3.51119173e-01, 2.84803587e-01, 2.31012970e-01,\n",
       "       1.87381742e-01, 1.51991108e-01, 1.23284674e-01, 1.00000000e-01,\n",
       "       8.11130831e-02, 6.57933225e-02, 5.33669923e-02, 4.32876128e-02,\n",
       "       3.51119173e-02, 2.8480358...\n",
       "       1.23284674e-07, 1.00000000e-07, 8.11130831e-08, 6.57933225e-08,\n",
       "       5.33669923e-08, 4.32876128e-08, 3.51119173e-08, 2.84803587e-08,\n",
       "       2.31012970e-08, 1.87381742e-08, 1.51991108e-08, 1.23284674e-08,\n",
       "       1.00000000e-08, 8.11130831e-09, 6.57933225e-09, 5.33669923e-09,\n",
       "       4.32876128e-09, 3.51119173e-09, 2.84803587e-09, 2.31012970e-09,\n",
       "       1.87381742e-09, 1.51991108e-09, 1.23284674e-09, 1.00000000e-09])},\n",
       "             verbose=1)"
      ]
     },
     "execution_count": 31,
     "metadata": {},
     "output_type": "execute_result"
    }
   ],
   "source": [
    "# For Gaussian NB\n",
    "parameters = {'var_smoothing': np.logspace(0,-9, num=100)}\n",
    "gnb_cv = GridSearchCV(nb, parameters, cv=5, verbose=1, n_jobs=10)\n",
    "gnb_cv.fit(X_train, y_train)"
   ]
  },
  {
   "cell_type": "code",
   "execution_count": 32,
   "id": "3f8eff97",
   "metadata": {
    "execution": {
     "iopub.execute_input": "2022-09-07T19:25:23.748899Z",
     "iopub.status.busy": "2022-09-07T19:25:23.748496Z",
     "iopub.status.idle": "2022-09-07T19:25:23.995251Z",
     "shell.execute_reply": "2022-09-07T19:25:23.994403Z"
    },
    "papermill": {
     "duration": 0.264424,
     "end_time": "2022-09-07T19:25:23.997520",
     "exception": false,
     "start_time": "2022-09-07T19:25:23.733096",
     "status": "completed"
    },
    "tags": []
   },
   "outputs": [
    {
     "name": "stdout",
     "output_type": "stream",
     "text": [
      "Accuracy of GaussianNB on test set : 0.8889700511322133\n",
      "F1 Score of GaussianNB on test set : 0.9044626021370208\n",
      "sensitivity= 0.9993055555555556\n",
      "specificity= 0.7665639445300462\n",
      "Precision= 0.8260619977037887\n"
     ]
    }
   ],
   "source": [
    "y_pred = gnb_cv.predict(X_test)\n",
    "acc_gnb = accuracy_score(y_pred, y_test)\n",
    "print(f\"Accuracy of GaussianNB on test set : {accuracy_score(y_pred, y_test)}\")\n",
    "print(f\"F1 Score of GaussianNB on test set : {f1_score(y_pred, y_test)}\")\n",
    "confusion = confusion_matrix(y_test, y_pred)\n",
    "\n",
    "TP = confusion[1, 1]\n",
    "TN = confusion[0, 0]\n",
    "FP = confusion[0, 1]\n",
    "FN = confusion[1, 0]\n",
    "\n",
    "sensitivity = TP / float(FN + TP)\n",
    "\n",
    "print(\"sensitivity=\",sensitivity)\n",
    "specificity = TN / (TN + FP)\n",
    "print(\"specificity=\",specificity)\n",
    "\n",
    "\n",
    "Precision = TP / float(TP + FP)\n",
    "Recall = TP / float(TP + FN)\n",
    "F1 = 2*((Precision*Recall)/(Precision+Recall))\n",
    "print (\"Precision=\",Precision)"
   ]
  },
  {
   "cell_type": "code",
   "execution_count": 33,
   "id": "8a04810f",
   "metadata": {
    "execution": {
     "iopub.execute_input": "2022-09-07T19:25:24.028131Z",
     "iopub.status.busy": "2022-09-07T19:25:24.027055Z",
     "iopub.status.idle": "2022-09-07T19:26:26.028158Z",
     "shell.execute_reply": "2022-09-07T19:26:26.027112Z"
    },
    "papermill": {
     "duration": 62.018578,
     "end_time": "2022-09-07T19:26:26.030470",
     "exception": false,
     "start_time": "2022-09-07T19:25:24.011892",
     "status": "completed"
    },
    "tags": []
   },
   "outputs": [
    {
     "name": "stdout",
     "output_type": "stream",
     "text": [
      "Fitting 10 folds for each of 1 candidates, totalling 10 fits\n",
      "[19:26:20] WARNING: ../src/learner.cc:627: \n",
      "Parameters: { \"silent\" } might not be used.\n",
      "\n",
      "  This could be a false alarm, with some parameters getting used by language bindings but\n",
      "  then being mistakenly passed down to XGBoost core, or some parameter actually being used\n",
      "  but getting flagged wrongly here. Please open an issue if you find any such cases.\n",
      "\n",
      "\n"
     ]
    },
    {
     "data": {
      "text/plain": [
       "GridSearchCV(cv=10,\n",
       "             estimator=XGBClassifier(base_score=0.5, booster='gbtree',\n",
       "                                     callbacks=None, colsample_bylevel=1,\n",
       "                                     colsample_bynode=1, colsample_bytree=1,\n",
       "                                     early_stopping_rounds=None,\n",
       "                                     enable_categorical=False, eval_metric=None,\n",
       "                                     gamma=0, gpu_id=-1,\n",
       "                                     grow_policy='depthwise',\n",
       "                                     importance_type=None,\n",
       "                                     interaction_constraints='',\n",
       "                                     learning_rate=0.300000012, max_bin=256,\n",
       "                                     max_c...\n",
       "                                     n_estimators=100, n_jobs=0,\n",
       "                                     num_parallel_tree=1, predictor='auto',\n",
       "                                     random_state=0, reg_alpha=0, reg_lambda=1, ...),\n",
       "             n_jobs=5,\n",
       "             param_grid={'colsample_bytree': [0.7], 'learning_rate': [0.05],\n",
       "                         'max_depth': [6], 'min_child_weight': [11],\n",
       "                         'missing': [-999], 'n_estimators': [5], 'nthread': [4],\n",
       "                         'objective': ['binary:logistic'], 'seed': [1337],\n",
       "                         'silent': [1], 'subsample': [0.8]},\n",
       "             scoring='accuracy', verbose=2)"
      ]
     },
     "execution_count": 33,
     "metadata": {},
     "output_type": "execute_result"
    }
   ],
   "source": [
    "# For XGBOOST\n",
    "parameters = {'nthread':[4], #when use hyperthread, xgboost may become slower\n",
    "              'objective':['binary:logistic'],\n",
    "              'learning_rate': [0.05], #so called `eta` value\n",
    "              'max_depth': [6],\n",
    "              'min_child_weight': [11],\n",
    "              'silent': [1],\n",
    "              'subsample': [0.8],\n",
    "              'colsample_bytree': [0.7],\n",
    "              'n_estimators': [5], #number of trees, change it to 1000 for better results\n",
    "              'missing':[-999],\n",
    "              'seed': [1337]}\n",
    "xgb_cv = GridSearchCV(xgb_mod, parameters, n_jobs=5, \n",
    "                   cv=10, \n",
    "                   scoring='accuracy',\n",
    "                   verbose=2, refit=True)\n",
    "\n",
    "xgb_cv.fit(X_train,y_train)"
   ]
  },
  {
   "cell_type": "code",
   "execution_count": 34,
   "id": "60876505",
   "metadata": {
    "execution": {
     "iopub.execute_input": "2022-09-07T19:26:26.061981Z",
     "iopub.status.busy": "2022-09-07T19:26:26.061585Z",
     "iopub.status.idle": "2022-09-07T19:26:26.147030Z",
     "shell.execute_reply": "2022-09-07T19:26:26.145911Z"
    },
    "papermill": {
     "duration": 0.104292,
     "end_time": "2022-09-07T19:26:26.149613",
     "exception": false,
     "start_time": "2022-09-07T19:26:26.045321",
     "status": "completed"
    },
    "tags": []
   },
   "outputs": [
    {
     "name": "stdout",
     "output_type": "stream",
     "text": [
      "Accuracy of XGBoost on test set : 0.9941563184806428\n",
      "F1 Score of XGBoost on test set : 0.9944134078212291\n",
      "sensitivity= 0.9888888888888889\n",
      "specificity= 1.0\n",
      "Precision= 1.0\n"
     ]
    }
   ],
   "source": [
    "y_pred = xgb_cv.predict(X_test)\n",
    "acc_xgb = accuracy_score(y_pred, y_test)\n",
    "print(f\"Accuracy of XGBoost on test set : {accuracy_score(y_pred, y_test)}\")\n",
    "print(f\"F1 Score of XGBoost on test set : {f1_score(y_pred, y_test)}\")\n",
    "confusion = confusion_matrix(y_test, y_pred)\n",
    "\n",
    "TP = confusion[1, 1]\n",
    "TN = confusion[0, 0]\n",
    "FP = confusion[0, 1]\n",
    "FN = confusion[1, 0]\n",
    "\n",
    "sensitivity = TP / float(FN + TP)\n",
    "\n",
    "print(\"sensitivity=\",sensitivity)\n",
    "specificity = TN / (TN + FP)\n",
    "print(\"specificity=\",specificity)\n",
    "\n",
    "Precision = TP / float(TP + FP)\n",
    "Recall = TP / float(TP + FN)\n",
    "F1 = 2*((Precision*Recall)/(Precision+Recall))\n",
    "print (\"Precision=\",Precision)"
   ]
  },
  {
   "cell_type": "code",
   "execution_count": 35,
   "id": "2c3ac7d5",
   "metadata": {
    "execution": {
     "iopub.execute_input": "2022-09-07T19:26:26.182058Z",
     "iopub.status.busy": "2022-09-07T19:26:26.181629Z",
     "iopub.status.idle": "2022-09-07T19:37:19.432248Z",
     "shell.execute_reply": "2022-09-07T19:37:19.430857Z"
    },
    "papermill": {
     "duration": 653.28533,
     "end_time": "2022-09-07T19:37:19.449953",
     "exception": false,
     "start_time": "2022-09-07T19:26:26.164623",
     "status": "completed"
    },
    "tags": []
   },
   "outputs": [
    {
     "name": "stdout",
     "output_type": "stream",
     "text": [
      "[19:25:29] WARNING: ../src/learner.cc:627: \n",
      "Parameters: { \"silent\" } might not be used.\n",
      "\n",
      "  This could be a false alarm, with some parameters getting used by language bindings but\n",
      "  then being mistakenly passed down to XGBoost core, or some parameter actually being used\n",
      "  but getting flagged wrongly here. Please open an issue if you find any such cases.\n",
      "\n",
      "\n",
      "[CV] END colsample_bytree=0.7, learning_rate=0.05, max_depth=6, min_child_weight=11, missing=-999, n_estimators=5, nthread=4, objective=binary:logistic, seed=1337, silent=1, subsample=0.8; total time=  26.4s\n",
      "[19:25:56] WARNING: ../src/learner.cc:627: \n",
      "Parameters: { \"silent\" } might not be used.\n",
      "\n",
      "  This could be a false alarm, with some parameters getting used by language bindings but\n",
      "  then being mistakenly passed down to XGBoost core, or some parameter actually being used\n",
      "  but getting flagged wrongly here. Please open an issue if you find any such cases.\n",
      "\n",
      "\n",
      "[CV] END colsample_bytree=0.7, learning_rate=0.05, max_depth=6, min_child_weight=11, missing=-999, n_estimators=5, nthread=4, objective=binary:logistic, seed=1337, silent=1, subsample=0.8; total time=  25.8s\n",
      "[19:25:29] WARNING: ../src/learner.cc:627: \n",
      "Parameters: { \"silent\" } might not be used.\n",
      "\n",
      "  This could be a false alarm, with some parameters getting used by language bindings but\n",
      "  then being mistakenly passed down to XGBoost core, or some parameter actually being used\n",
      "  but getting flagged wrongly here. Please open an issue if you find any such cases.\n",
      "\n",
      "\n",
      "[CV] END colsample_bytree=0.7, learning_rate=0.05, max_depth=6, min_child_weight=11, missing=-999, n_estimators=5, nthread=4, objective=binary:logistic, seed=1337, silent=1, subsample=0.8; total time=  26.9s\n",
      "[19:25:56] WARNING: ../src/learner.cc:627: \n",
      "Parameters: { \"silent\" } might not be used.\n",
      "\n",
      "  This could be a false alarm, with some parameters getting used by language bindings but\n",
      "  then being mistakenly passed down to XGBoost core, or some parameter actually being used\n",
      "  but getting flagged wrongly here. Please open an issue if you find any such cases.\n",
      "\n",
      "\n",
      "[CV] END colsample_bytree=0.7, learning_rate=0.05, max_depth=6, min_child_weight=11, missing=-999, n_estimators=5, nthread=4, objective=binary:logistic, seed=1337, silent=1, subsample=0.8; total time=  25.6s\n",
      "[19:25:29] WARNING: ../src/learner.cc:627: \n",
      "Parameters: { \"silent\" } might not be used.\n",
      "\n",
      "  This could be a false alarm, with some parameters getting used by language bindings but\n",
      "  then being mistakenly passed down to XGBoost core, or some parameter actually being used\n",
      "  but getting flagged wrongly here. Please open an issue if you find any such cases.\n",
      "\n",
      "\n",
      "[CV] END colsample_bytree=0.7, learning_rate=0.05, max_depth=6, min_child_weight=11, missing=-999, n_estimators=5, nthread=4, objective=binary:logistic, seed=1337, silent=1, subsample=0.8; total time=  26.7s\n",
      "[19:25:56] WARNING: ../src/learner.cc:627: \n",
      "Parameters: { \"silent\" } might not be used.\n",
      "\n",
      "  This could be a false alarm, with some parameters getting used by language bindings but\n",
      "  then being mistakenly passed down to XGBoost core, or some parameter actually being used\n",
      "  but getting flagged wrongly here. Please open an issue if you find any such cases.\n",
      "\n",
      "\n",
      "[CV] END colsample_bytree=0.7, learning_rate=0.05, max_depth=6, min_child_weight=11, missing=-999, n_estimators=5, nthread=4, objective=binary:logistic, seed=1337, silent=1, subsample=0.8; total time=  26.1s\n",
      "[19:25:29] WARNING: ../src/learner.cc:627: \n",
      "Parameters: { \"silent\" } might not be used.\n",
      "\n",
      "  This could be a false alarm, with some parameters getting used by language bindings but\n",
      "  then being mistakenly passed down to XGBoost core, or some parameter actually being used\n",
      "  but getting flagged wrongly here. Please open an issue if you find any such cases.\n",
      "\n",
      "\n",
      "[CV] END colsample_bytree=0.7, learning_rate=0.05, max_depth=6, min_child_weight=11, missing=-999, n_estimators=5, nthread=4, objective=binary:logistic, seed=1337, silent=1, subsample=0.8; total time=  27.5s\n",
      "[19:25:57] WARNING: ../src/learner.cc:627: \n",
      "Parameters: { \"silent\" } might not be used.\n",
      "\n",
      "  This could be a false alarm, with some parameters getting used by language bindings but\n",
      "  then being mistakenly passed down to XGBoost core, or some parameter actually being used\n",
      "  but getting flagged wrongly here. Please open an issue if you find any such cases.\n",
      "\n",
      "\n",
      "[CV] END colsample_bytree=0.7, learning_rate=0.05, max_depth=6, min_child_weight=11, missing=-999, n_estimators=5, nthread=4, objective=binary:logistic, seed=1337, silent=1, subsample=0.8; total time=  25.8s\n",
      "[19:25:29] WARNING: ../src/learner.cc:627: \n",
      "Parameters: { \"silent\" } might not be used.\n",
      "\n",
      "  This could be a false alarm, with some parameters getting used by language bindings but\n",
      "  then being mistakenly passed down to XGBoost core, or some parameter actually being used\n",
      "  but getting flagged wrongly here. Please open an issue if you find any such cases.\n",
      "\n",
      "\n",
      "[CV] END colsample_bytree=0.7, learning_rate=0.05, max_depth=6, min_child_weight=11, missing=-999, n_estimators=5, nthread=4, objective=binary:logistic, seed=1337, silent=1, subsample=0.8; total time=  27.5s\n",
      "[19:25:57] WARNING: ../src/learner.cc:627: \n",
      "Parameters: { \"silent\" } might not be used.\n",
      "\n",
      "  This could be a false alarm, with some parameters getting used by language bindings but\n",
      "  then being mistakenly passed down to XGBoost core, or some parameter actually being used\n",
      "  but getting flagged wrongly here. Please open an issue if you find any such cases.\n",
      "\n",
      "\n",
      "[CV] END colsample_bytree=0.7, learning_rate=0.05, max_depth=6, min_child_weight=11, missing=-999, n_estimators=5, nthread=4, objective=binary:logistic, seed=1337, silent=1, subsample=0.8; total time=  25.9s\n"
     ]
    },
    {
     "data": {
      "text/plain": [
       "GridSearchCV(cv=5,\n",
       "             estimator=DecisionTreeClassifier(criterion='entropy',\n",
       "                                              random_state=0),\n",
       "             param_grid={'criterion': ['gini', 'entropy'],\n",
       "                         'max_depth': [4, 5, 6, 7, 8, 9, 10, 11, 12, 15, 20, 30,\n",
       "                                       40, 50, 70, 90, 120, 150]})"
      ]
     },
     "execution_count": 35,
     "metadata": {},
     "output_type": "execute_result"
    }
   ],
   "source": [
    "# For DecisionTree Classifier\n",
    "tree_para = {'criterion':['gini','entropy'],'max_depth':[4,5,6,7,8,9,10,11,12,15,20,30,40,50,70,90,120,150]}\n",
    "dct_cv= GridSearchCV(nb_clf, tree_para, cv=5)\n",
    "dct_cv.fit(X_train, y_train)"
   ]
  },
  {
   "cell_type": "code",
   "execution_count": 36,
   "id": "1e52588c",
   "metadata": {
    "execution": {
     "iopub.execute_input": "2022-09-07T19:37:19.483242Z",
     "iopub.status.busy": "2022-09-07T19:37:19.482758Z",
     "iopub.status.idle": "2022-09-07T19:37:19.540612Z",
     "shell.execute_reply": "2022-09-07T19:37:19.539560Z"
    },
    "papermill": {
     "duration": 0.079549,
     "end_time": "2022-09-07T19:37:19.544786",
     "exception": false,
     "start_time": "2022-09-07T19:37:19.465237",
     "status": "completed"
    },
    "tags": []
   },
   "outputs": [
    {
     "name": "stdout",
     "output_type": "stream",
     "text": [
      "Accuracy of Decision Tree on test set : 0.9989043097151206\n",
      "F1 Score of Decision Tree on test set : 0.9989579715178881\n",
      "sensitivity= 0.9986111111111111\n",
      "specificity= 0.9992295839753467\n",
      "Precision= 0.9993050729673384\n"
     ]
    }
   ],
   "source": [
    "y_pred = dct_cv.predict(X_test)\n",
    "acc_dct = accuracy_score(y_pred, y_test)\n",
    "print(f\"Accuracy of Decision Tree on test set : {accuracy_score(y_pred, y_test)}\")\n",
    "print(f\"F1 Score of Decision Tree on test set : {f1_score(y_pred, y_test)}\")\n",
    "confusion = confusion_matrix(y_test, y_pred)\n",
    "\n",
    "TP = confusion[1, 1]\n",
    "TN = confusion[0, 0]\n",
    "FP = confusion[0, 1]\n",
    "FN = confusion[1, 0]\n",
    "\n",
    "sensitivity = TP / float(FN + TP)\n",
    "\n",
    "print(\"sensitivity=\",sensitivity)\n",
    "specificity = TN / (TN + FP)\n",
    "print(\"specificity=\",specificity)\n",
    "\n",
    "\n",
    "Precision = TP / float(TP + FP)\n",
    "Recall = TP / float(TP + FN)\n",
    "F1 = 2*((Precision*Recall)/(Precision+Recall))\n",
    "print (\"Precision=\",Precision)"
   ]
  },
  {
   "cell_type": "code",
   "execution_count": null,
   "id": "4d439305",
   "metadata": {
    "papermill": {
     "duration": 0.014778,
     "end_time": "2022-09-07T19:37:19.577607",
     "exception": false,
     "start_time": "2022-09-07T19:37:19.562829",
     "status": "completed"
    },
    "tags": []
   },
   "outputs": [],
   "source": []
  }
 ],
 "metadata": {
  "kernelspec": {
   "display_name": "Python 3",
   "language": "python",
   "name": "python3"
  },
  "language_info": {
   "codemirror_mode": {
    "name": "ipython",
    "version": 3
   },
   "file_extension": ".py",
   "mimetype": "text/x-python",
   "name": "python",
   "nbconvert_exporter": "python",
   "pygments_lexer": "ipython3",
   "version": "3.7.12"
  },
  "papermill": {
   "default_parameters": {},
   "duration": 1710.348809,
   "end_time": "2022-09-07T19:37:22.219168",
   "environment_variables": {},
   "exception": null,
   "input_path": "__notebook__.ipynb",
   "output_path": "__notebook__.ipynb",
   "parameters": {},
   "start_time": "2022-09-07T19:08:51.870359",
   "version": "2.3.4"
  }
 },
 "nbformat": 4,
 "nbformat_minor": 5
}
